{
 "cells": [
  {
   "cell_type": "code",
   "execution_count": 1,
   "id": "1879ba28-7f6a-4749-bb88-65a337307aa3",
   "metadata": {},
   "outputs": [],
   "source": [
    "import pandas as pd\n",
    "import numpy as np"
   ]
  },
  {
   "cell_type": "code",
   "execution_count": 2,
   "id": "8c36b4c4-0f2c-49d5-97c2-a06f3c4c55c2",
   "metadata": {},
   "outputs": [
    {
     "data": {
      "text/html": [
       "<div>\n",
       "<style scoped>\n",
       "    .dataframe tbody tr th:only-of-type {\n",
       "        vertical-align: middle;\n",
       "    }\n",
       "\n",
       "    .dataframe tbody tr th {\n",
       "        vertical-align: top;\n",
       "    }\n",
       "\n",
       "    .dataframe thead th {\n",
       "        text-align: right;\n",
       "    }\n",
       "</style>\n",
       "<table border=\"1\" class=\"dataframe\">\n",
       "  <thead>\n",
       "    <tr style=\"text-align: right;\">\n",
       "      <th></th>\n",
       "      <th>Bedrooms</th>\n",
       "      <th>Bathrooms</th>\n",
       "      <th>Status</th>\n",
       "      <th>Location</th>\n",
       "      <th>Price</th>\n",
       "      <th>Facing</th>\n",
       "      <th>Type</th>\n",
       "      <th>Size</th>\n",
       "    </tr>\n",
       "  </thead>\n",
       "  <tbody>\n",
       "    <tr>\n",
       "      <th>0</th>\n",
       "      <td>0</td>\n",
       "      <td>0</td>\n",
       "      <td>0</td>\n",
       "      <td>34</td>\n",
       "      <td>68</td>\n",
       "      <td>1</td>\n",
       "      <td>3</td>\n",
       "      <td>1944</td>\n",
       "    </tr>\n",
       "    <tr>\n",
       "      <th>1</th>\n",
       "      <td>2</td>\n",
       "      <td>2</td>\n",
       "      <td>1</td>\n",
       "      <td>17</td>\n",
       "      <td>45</td>\n",
       "      <td>1</td>\n",
       "      <td>0</td>\n",
       "      <td>1266</td>\n",
       "    </tr>\n",
       "    <tr>\n",
       "      <th>2</th>\n",
       "      <td>3</td>\n",
       "      <td>3</td>\n",
       "      <td>1</td>\n",
       "      <td>56</td>\n",
       "      <td>55</td>\n",
       "      <td>8</td>\n",
       "      <td>0</td>\n",
       "      <td>1587</td>\n",
       "    </tr>\n",
       "    <tr>\n",
       "      <th>3</th>\n",
       "      <td>0</td>\n",
       "      <td>0</td>\n",
       "      <td>2</td>\n",
       "      <td>31</td>\n",
       "      <td>15</td>\n",
       "      <td>0</td>\n",
       "      <td>3</td>\n",
       "      <td>1560</td>\n",
       "    </tr>\n",
       "    <tr>\n",
       "      <th>4</th>\n",
       "      <td>2</td>\n",
       "      <td>2</td>\n",
       "      <td>1</td>\n",
       "      <td>56</td>\n",
       "      <td>48</td>\n",
       "      <td>1</td>\n",
       "      <td>0</td>\n",
       "      <td>1450</td>\n",
       "    </tr>\n",
       "    <tr>\n",
       "      <th>...</th>\n",
       "      <td>...</td>\n",
       "      <td>...</td>\n",
       "      <td>...</td>\n",
       "      <td>...</td>\n",
       "      <td>...</td>\n",
       "      <td>...</td>\n",
       "      <td>...</td>\n",
       "      <td>...</td>\n",
       "    </tr>\n",
       "    <tr>\n",
       "      <th>955</th>\n",
       "      <td>0</td>\n",
       "      <td>0</td>\n",
       "      <td>2</td>\n",
       "      <td>4</td>\n",
       "      <td>85</td>\n",
       "      <td>8</td>\n",
       "      <td>3</td>\n",
       "      <td>2040</td>\n",
       "    </tr>\n",
       "    <tr>\n",
       "      <th>956</th>\n",
       "      <td>0</td>\n",
       "      <td>0</td>\n",
       "      <td>2</td>\n",
       "      <td>4</td>\n",
       "      <td>85</td>\n",
       "      <td>8</td>\n",
       "      <td>3</td>\n",
       "      <td>2040</td>\n",
       "    </tr>\n",
       "    <tr>\n",
       "      <th>957</th>\n",
       "      <td>0</td>\n",
       "      <td>0</td>\n",
       "      <td>2</td>\n",
       "      <td>4</td>\n",
       "      <td>85</td>\n",
       "      <td>8</td>\n",
       "      <td>3</td>\n",
       "      <td>2040</td>\n",
       "    </tr>\n",
       "    <tr>\n",
       "      <th>958</th>\n",
       "      <td>0</td>\n",
       "      <td>0</td>\n",
       "      <td>2</td>\n",
       "      <td>4</td>\n",
       "      <td>85</td>\n",
       "      <td>8</td>\n",
       "      <td>3</td>\n",
       "      <td>2040</td>\n",
       "    </tr>\n",
       "    <tr>\n",
       "      <th>959</th>\n",
       "      <td>0</td>\n",
       "      <td>0</td>\n",
       "      <td>0</td>\n",
       "      <td>80</td>\n",
       "      <td>19</td>\n",
       "      <td>0</td>\n",
       "      <td>3</td>\n",
       "      <td>2394</td>\n",
       "    </tr>\n",
       "  </tbody>\n",
       "</table>\n",
       "<p>960 rows × 8 columns</p>\n",
       "</div>"
      ],
      "text/plain": [
       "     Bedrooms  Bathrooms  Status  Location  Price  Facing  Type  Size\n",
       "0           0          0       0        34     68       1     3  1944\n",
       "1           2          2       1        17     45       1     0  1266\n",
       "2           3          3       1        56     55       8     0  1587\n",
       "3           0          0       2        31     15       0     3  1560\n",
       "4           2          2       1        56     48       1     0  1450\n",
       "..        ...        ...     ...       ...    ...     ...   ...   ...\n",
       "955         0          0       2         4     85       8     3  2040\n",
       "956         0          0       2         4     85       8     3  2040\n",
       "957         0          0       2         4     85       8     3  2040\n",
       "958         0          0       2         4     85       8     3  2040\n",
       "959         0          0       0        80     19       0     3  2394\n",
       "\n",
       "[960 rows x 8 columns]"
      ]
     },
     "execution_count": 2,
     "metadata": {},
     "output_type": "execute_result"
    }
   ],
   "source": [
    "df=pd.read_csv('House.csv')\n",
    "df"
   ]
  },
  {
   "cell_type": "code",
   "execution_count": 3,
   "id": "6b9868fb-1653-4d0d-9baf-522591a0ff53",
   "metadata": {},
   "outputs": [
    {
     "data": {
      "text/html": [
       "<div>\n",
       "<style scoped>\n",
       "    .dataframe tbody tr th:only-of-type {\n",
       "        vertical-align: middle;\n",
       "    }\n",
       "\n",
       "    .dataframe tbody tr th {\n",
       "        vertical-align: top;\n",
       "    }\n",
       "\n",
       "    .dataframe thead th {\n",
       "        text-align: right;\n",
       "    }\n",
       "</style>\n",
       "<table border=\"1\" class=\"dataframe\">\n",
       "  <thead>\n",
       "    <tr style=\"text-align: right;\">\n",
       "      <th></th>\n",
       "      <th>Bedrooms</th>\n",
       "      <th>Bathrooms</th>\n",
       "      <th>Status</th>\n",
       "      <th>Location</th>\n",
       "      <th>Price</th>\n",
       "      <th>Facing</th>\n",
       "      <th>Type</th>\n",
       "      <th>Size</th>\n",
       "    </tr>\n",
       "  </thead>\n",
       "  <tbody>\n",
       "    <tr>\n",
       "      <th>0</th>\n",
       "      <td>0</td>\n",
       "      <td>0</td>\n",
       "      <td>0</td>\n",
       "      <td>34</td>\n",
       "      <td>68</td>\n",
       "      <td>1</td>\n",
       "      <td>3</td>\n",
       "      <td>1944</td>\n",
       "    </tr>\n",
       "    <tr>\n",
       "      <th>1</th>\n",
       "      <td>2</td>\n",
       "      <td>2</td>\n",
       "      <td>1</td>\n",
       "      <td>17</td>\n",
       "      <td>45</td>\n",
       "      <td>1</td>\n",
       "      <td>0</td>\n",
       "      <td>1266</td>\n",
       "    </tr>\n",
       "    <tr>\n",
       "      <th>2</th>\n",
       "      <td>3</td>\n",
       "      <td>3</td>\n",
       "      <td>1</td>\n",
       "      <td>56</td>\n",
       "      <td>55</td>\n",
       "      <td>8</td>\n",
       "      <td>0</td>\n",
       "      <td>1587</td>\n",
       "    </tr>\n",
       "    <tr>\n",
       "      <th>3</th>\n",
       "      <td>0</td>\n",
       "      <td>0</td>\n",
       "      <td>2</td>\n",
       "      <td>31</td>\n",
       "      <td>15</td>\n",
       "      <td>0</td>\n",
       "      <td>3</td>\n",
       "      <td>1560</td>\n",
       "    </tr>\n",
       "    <tr>\n",
       "      <th>4</th>\n",
       "      <td>2</td>\n",
       "      <td>2</td>\n",
       "      <td>1</td>\n",
       "      <td>56</td>\n",
       "      <td>48</td>\n",
       "      <td>1</td>\n",
       "      <td>0</td>\n",
       "      <td>1450</td>\n",
       "    </tr>\n",
       "  </tbody>\n",
       "</table>\n",
       "</div>"
      ],
      "text/plain": [
       "   Bedrooms  Bathrooms  Status  Location  Price  Facing  Type  Size\n",
       "0         0          0       0        34     68       1     3  1944\n",
       "1         2          2       1        17     45       1     0  1266\n",
       "2         3          3       1        56     55       8     0  1587\n",
       "3         0          0       2        31     15       0     3  1560\n",
       "4         2          2       1        56     48       1     0  1450"
      ]
     },
     "execution_count": 3,
     "metadata": {},
     "output_type": "execute_result"
    }
   ],
   "source": [
    "df.head()"
   ]
  },
  {
   "cell_type": "code",
   "execution_count": 4,
   "id": "94d02792-aef8-4ec7-b814-f3905b310148",
   "metadata": {},
   "outputs": [
    {
     "data": {
      "text/html": [
       "<div>\n",
       "<style scoped>\n",
       "    .dataframe tbody tr th:only-of-type {\n",
       "        vertical-align: middle;\n",
       "    }\n",
       "\n",
       "    .dataframe tbody tr th {\n",
       "        vertical-align: top;\n",
       "    }\n",
       "\n",
       "    .dataframe thead th {\n",
       "        text-align: right;\n",
       "    }\n",
       "</style>\n",
       "<table border=\"1\" class=\"dataframe\">\n",
       "  <thead>\n",
       "    <tr style=\"text-align: right;\">\n",
       "      <th></th>\n",
       "      <th>Bedrooms</th>\n",
       "      <th>Bathrooms</th>\n",
       "      <th>Status</th>\n",
       "      <th>Location</th>\n",
       "      <th>Price</th>\n",
       "      <th>Facing</th>\n",
       "      <th>Type</th>\n",
       "      <th>Size</th>\n",
       "    </tr>\n",
       "  </thead>\n",
       "  <tbody>\n",
       "    <tr>\n",
       "      <th>955</th>\n",
       "      <td>0</td>\n",
       "      <td>0</td>\n",
       "      <td>2</td>\n",
       "      <td>4</td>\n",
       "      <td>85</td>\n",
       "      <td>8</td>\n",
       "      <td>3</td>\n",
       "      <td>2040</td>\n",
       "    </tr>\n",
       "    <tr>\n",
       "      <th>956</th>\n",
       "      <td>0</td>\n",
       "      <td>0</td>\n",
       "      <td>2</td>\n",
       "      <td>4</td>\n",
       "      <td>85</td>\n",
       "      <td>8</td>\n",
       "      <td>3</td>\n",
       "      <td>2040</td>\n",
       "    </tr>\n",
       "    <tr>\n",
       "      <th>957</th>\n",
       "      <td>0</td>\n",
       "      <td>0</td>\n",
       "      <td>2</td>\n",
       "      <td>4</td>\n",
       "      <td>85</td>\n",
       "      <td>8</td>\n",
       "      <td>3</td>\n",
       "      <td>2040</td>\n",
       "    </tr>\n",
       "    <tr>\n",
       "      <th>958</th>\n",
       "      <td>0</td>\n",
       "      <td>0</td>\n",
       "      <td>2</td>\n",
       "      <td>4</td>\n",
       "      <td>85</td>\n",
       "      <td>8</td>\n",
       "      <td>3</td>\n",
       "      <td>2040</td>\n",
       "    </tr>\n",
       "    <tr>\n",
       "      <th>959</th>\n",
       "      <td>0</td>\n",
       "      <td>0</td>\n",
       "      <td>0</td>\n",
       "      <td>80</td>\n",
       "      <td>19</td>\n",
       "      <td>0</td>\n",
       "      <td>3</td>\n",
       "      <td>2394</td>\n",
       "    </tr>\n",
       "  </tbody>\n",
       "</table>\n",
       "</div>"
      ],
      "text/plain": [
       "     Bedrooms  Bathrooms  Status  Location  Price  Facing  Type  Size\n",
       "955         0          0       2         4     85       8     3  2040\n",
       "956         0          0       2         4     85       8     3  2040\n",
       "957         0          0       2         4     85       8     3  2040\n",
       "958         0          0       2         4     85       8     3  2040\n",
       "959         0          0       0        80     19       0     3  2394"
      ]
     },
     "execution_count": 4,
     "metadata": {},
     "output_type": "execute_result"
    }
   ],
   "source": [
    "df.tail()"
   ]
  },
  {
   "cell_type": "code",
   "execution_count": 5,
   "id": "2aa688c2-4de3-4b4e-9251-0626ae9c6ad6",
   "metadata": {},
   "outputs": [
    {
     "data": {
      "text/plain": [
       "960"
      ]
     },
     "execution_count": 5,
     "metadata": {},
     "output_type": "execute_result"
    }
   ],
   "source": [
    "len(df)"
   ]
  },
  {
   "cell_type": "code",
   "execution_count": 6,
   "id": "eaeb5e90-2e32-4e64-b3e2-1ddbbebeb1ae",
   "metadata": {},
   "outputs": [],
   "source": [
    "from sklearn.model_selection import train_test_split\n",
    "from sklearn.linear_model import LinearRegression"
   ]
  },
  {
   "cell_type": "code",
   "execution_count": 7,
   "id": "02e9d593-f8d9-4744-be20-1af31b54f235",
   "metadata": {},
   "outputs": [
    {
     "data": {
      "text/plain": [
       "(array([[0, 1],\n",
       "        [2, 3],\n",
       "        [4, 5],\n",
       "        [6, 7],\n",
       "        [8, 9]]),\n",
       " range(0, 5))"
      ]
     },
     "execution_count": 7,
     "metadata": {},
     "output_type": "execute_result"
    }
   ],
   "source": [
    "a,b = np.arange(10).reshape(5,2),range(5)\n",
    "a,b"
   ]
  },
  {
   "cell_type": "code",
   "execution_count": 8,
   "id": "55810549-cd39-4965-a846-3ef6ad9612eb",
   "metadata": {},
   "outputs": [
    {
     "data": {
      "text/plain": [
       "(array([[6, 7],\n",
       "        [2, 3],\n",
       "        [8, 9]]),\n",
       " array([[4, 5],\n",
       "        [0, 1]]),\n",
       " [3, 1, 4],\n",
       " [2, 0])"
      ]
     },
     "execution_count": 8,
     "metadata": {},
     "output_type": "execute_result"
    }
   ],
   "source": [
    "p,q,r,s = train_test_split(a,b)\n",
    "p,q,r,s"
   ]
  },
  {
   "cell_type": "code",
   "execution_count": 9,
   "id": "279b2f19-1c2e-4a13-a45b-7a5fd8e22d37",
   "metadata": {},
   "outputs": [
    {
     "name": "stdout",
     "output_type": "stream",
     "text": [
      "<class 'pandas.core.frame.DataFrame'>\n",
      "RangeIndex: 960 entries, 0 to 959\n",
      "Data columns (total 8 columns):\n",
      " #   Column     Non-Null Count  Dtype\n",
      "---  ------     --------------  -----\n",
      " 0   Bedrooms   960 non-null    int64\n",
      " 1   Bathrooms  960 non-null    int64\n",
      " 2   Status     960 non-null    int64\n",
      " 3   Location   960 non-null    int64\n",
      " 4   Price      960 non-null    int64\n",
      " 5   Facing     960 non-null    int64\n",
      " 6   Type       960 non-null    int64\n",
      " 7   Size       960 non-null    int64\n",
      "dtypes: int64(8)\n",
      "memory usage: 60.1 KB\n"
     ]
    }
   ],
   "source": [
    "df.info()"
   ]
  },
  {
   "cell_type": "code",
   "execution_count": 10,
   "id": "0270a0f7-52a6-4d5b-954c-b5164ff2d203",
   "metadata": {},
   "outputs": [],
   "source": [
    "x = df.drop(columns=['Price'])\n",
    "y = df['Price']"
   ]
  },
  {
   "cell_type": "code",
   "execution_count": 11,
   "id": "fb286dea-9cf1-46cf-8d38-513d2f722e98",
   "metadata": {},
   "outputs": [
    {
     "data": {
      "text/html": [
       "<div>\n",
       "<style scoped>\n",
       "    .dataframe tbody tr th:only-of-type {\n",
       "        vertical-align: middle;\n",
       "    }\n",
       "\n",
       "    .dataframe tbody tr th {\n",
       "        vertical-align: top;\n",
       "    }\n",
       "\n",
       "    .dataframe thead th {\n",
       "        text-align: right;\n",
       "    }\n",
       "</style>\n",
       "<table border=\"1\" class=\"dataframe\">\n",
       "  <thead>\n",
       "    <tr style=\"text-align: right;\">\n",
       "      <th></th>\n",
       "      <th>Bedrooms</th>\n",
       "      <th>Bathrooms</th>\n",
       "      <th>Status</th>\n",
       "      <th>Location</th>\n",
       "      <th>Facing</th>\n",
       "      <th>Type</th>\n",
       "      <th>Size</th>\n",
       "    </tr>\n",
       "  </thead>\n",
       "  <tbody>\n",
       "    <tr>\n",
       "      <th>0</th>\n",
       "      <td>0</td>\n",
       "      <td>0</td>\n",
       "      <td>0</td>\n",
       "      <td>34</td>\n",
       "      <td>1</td>\n",
       "      <td>3</td>\n",
       "      <td>1944</td>\n",
       "    </tr>\n",
       "    <tr>\n",
       "      <th>1</th>\n",
       "      <td>2</td>\n",
       "      <td>2</td>\n",
       "      <td>1</td>\n",
       "      <td>17</td>\n",
       "      <td>1</td>\n",
       "      <td>0</td>\n",
       "      <td>1266</td>\n",
       "    </tr>\n",
       "    <tr>\n",
       "      <th>2</th>\n",
       "      <td>3</td>\n",
       "      <td>3</td>\n",
       "      <td>1</td>\n",
       "      <td>56</td>\n",
       "      <td>8</td>\n",
       "      <td>0</td>\n",
       "      <td>1587</td>\n",
       "    </tr>\n",
       "    <tr>\n",
       "      <th>3</th>\n",
       "      <td>0</td>\n",
       "      <td>0</td>\n",
       "      <td>2</td>\n",
       "      <td>31</td>\n",
       "      <td>0</td>\n",
       "      <td>3</td>\n",
       "      <td>1560</td>\n",
       "    </tr>\n",
       "    <tr>\n",
       "      <th>4</th>\n",
       "      <td>2</td>\n",
       "      <td>2</td>\n",
       "      <td>1</td>\n",
       "      <td>56</td>\n",
       "      <td>1</td>\n",
       "      <td>0</td>\n",
       "      <td>1450</td>\n",
       "    </tr>\n",
       "  </tbody>\n",
       "</table>\n",
       "</div>"
      ],
      "text/plain": [
       "   Bedrooms  Bathrooms  Status  Location  Facing  Type  Size\n",
       "0         0          0       0        34       1     3  1944\n",
       "1         2          2       1        17       1     0  1266\n",
       "2         3          3       1        56       8     0  1587\n",
       "3         0          0       2        31       0     3  1560\n",
       "4         2          2       1        56       1     0  1450"
      ]
     },
     "execution_count": 11,
     "metadata": {},
     "output_type": "execute_result"
    }
   ],
   "source": [
    "x.head()"
   ]
  },
  {
   "cell_type": "code",
   "execution_count": 12,
   "id": "82d0cbce-a8cd-401d-9361-4fdbfa586663",
   "metadata": {},
   "outputs": [
    {
     "data": {
      "text/plain": [
       "0    68\n",
       "1    45\n",
       "2    55\n",
       "3    15\n",
       "4    48\n",
       "Name: Price, dtype: int64"
      ]
     },
     "execution_count": 12,
     "metadata": {},
     "output_type": "execute_result"
    }
   ],
   "source": [
    "y.head()"
   ]
  },
  {
   "cell_type": "code",
   "execution_count": 13,
   "id": "5a0610c6-4e98-429e-a9b5-27cb7e1a0809",
   "metadata": {},
   "outputs": [],
   "source": [
    "x_train ,x_test,y_train,y_test = train_test_split(x,y,test_size=0.3,random_state=42)"
   ]
  },
  {
   "cell_type": "code",
   "execution_count": 14,
   "id": "feb25b02-2e21-4700-a7db-b8cad3300987",
   "metadata": {},
   "outputs": [
    {
     "data": {
      "text/plain": [
       "(672, 288)"
      ]
     },
     "execution_count": 14,
     "metadata": {},
     "output_type": "execute_result"
    }
   ],
   "source": [
    "len(x_train),len(x_test)"
   ]
  },
  {
   "cell_type": "code",
   "execution_count": 15,
   "id": "2af813dc-66f1-4700-bd6f-163334ee2647",
   "metadata": {},
   "outputs": [],
   "source": [
    "lin_reg = LinearRegression()"
   ]
  },
  {
   "cell_type": "code",
   "execution_count": 16,
   "id": "16d6ef2a-5e14-4e1a-8274-ff8ec99d28a9",
   "metadata": {},
   "outputs": [
    {
     "data": {
      "text/html": [
       "<style>#sk-container-id-1 {color: black;background-color: white;}#sk-container-id-1 pre{padding: 0;}#sk-container-id-1 div.sk-toggleable {background-color: white;}#sk-container-id-1 label.sk-toggleable__label {cursor: pointer;display: block;width: 100%;margin-bottom: 0;padding: 0.3em;box-sizing: border-box;text-align: center;}#sk-container-id-1 label.sk-toggleable__label-arrow:before {content: \"▸\";float: left;margin-right: 0.25em;color: #696969;}#sk-container-id-1 label.sk-toggleable__label-arrow:hover:before {color: black;}#sk-container-id-1 div.sk-estimator:hover label.sk-toggleable__label-arrow:before {color: black;}#sk-container-id-1 div.sk-toggleable__content {max-height: 0;max-width: 0;overflow: hidden;text-align: left;background-color: #f0f8ff;}#sk-container-id-1 div.sk-toggleable__content pre {margin: 0.2em;color: black;border-radius: 0.25em;background-color: #f0f8ff;}#sk-container-id-1 input.sk-toggleable__control:checked~div.sk-toggleable__content {max-height: 200px;max-width: 100%;overflow: auto;}#sk-container-id-1 input.sk-toggleable__control:checked~label.sk-toggleable__label-arrow:before {content: \"▾\";}#sk-container-id-1 div.sk-estimator input.sk-toggleable__control:checked~label.sk-toggleable__label {background-color: #d4ebff;}#sk-container-id-1 div.sk-label input.sk-toggleable__control:checked~label.sk-toggleable__label {background-color: #d4ebff;}#sk-container-id-1 input.sk-hidden--visually {border: 0;clip: rect(1px 1px 1px 1px);clip: rect(1px, 1px, 1px, 1px);height: 1px;margin: -1px;overflow: hidden;padding: 0;position: absolute;width: 1px;}#sk-container-id-1 div.sk-estimator {font-family: monospace;background-color: #f0f8ff;border: 1px dotted black;border-radius: 0.25em;box-sizing: border-box;margin-bottom: 0.5em;}#sk-container-id-1 div.sk-estimator:hover {background-color: #d4ebff;}#sk-container-id-1 div.sk-parallel-item::after {content: \"\";width: 100%;border-bottom: 1px solid gray;flex-grow: 1;}#sk-container-id-1 div.sk-label:hover label.sk-toggleable__label {background-color: #d4ebff;}#sk-container-id-1 div.sk-serial::before {content: \"\";position: absolute;border-left: 1px solid gray;box-sizing: border-box;top: 0;bottom: 0;left: 50%;z-index: 0;}#sk-container-id-1 div.sk-serial {display: flex;flex-direction: column;align-items: center;background-color: white;padding-right: 0.2em;padding-left: 0.2em;position: relative;}#sk-container-id-1 div.sk-item {position: relative;z-index: 1;}#sk-container-id-1 div.sk-parallel {display: flex;align-items: stretch;justify-content: center;background-color: white;position: relative;}#sk-container-id-1 div.sk-item::before, #sk-container-id-1 div.sk-parallel-item::before {content: \"\";position: absolute;border-left: 1px solid gray;box-sizing: border-box;top: 0;bottom: 0;left: 50%;z-index: -1;}#sk-container-id-1 div.sk-parallel-item {display: flex;flex-direction: column;z-index: 1;position: relative;background-color: white;}#sk-container-id-1 div.sk-parallel-item:first-child::after {align-self: flex-end;width: 50%;}#sk-container-id-1 div.sk-parallel-item:last-child::after {align-self: flex-start;width: 50%;}#sk-container-id-1 div.sk-parallel-item:only-child::after {width: 0;}#sk-container-id-1 div.sk-dashed-wrapped {border: 1px dashed gray;margin: 0 0.4em 0.5em 0.4em;box-sizing: border-box;padding-bottom: 0.4em;background-color: white;}#sk-container-id-1 div.sk-label label {font-family: monospace;font-weight: bold;display: inline-block;line-height: 1.2em;}#sk-container-id-1 div.sk-label-container {text-align: center;}#sk-container-id-1 div.sk-container {/* jupyter's `normalize.less` sets `[hidden] { display: none; }` but bootstrap.min.css set `[hidden] { display: none !important; }` so we also need the `!important` here to be able to override the default hidden behavior on the sphinx rendered scikit-learn.org. See: https://github.com/scikit-learn/scikit-learn/issues/21755 */display: inline-block !important;position: relative;}#sk-container-id-1 div.sk-text-repr-fallback {display: none;}</style><div id=\"sk-container-id-1\" class=\"sk-top-container\"><div class=\"sk-text-repr-fallback\"><pre>LinearRegression()</pre><b>In a Jupyter environment, please rerun this cell to show the HTML representation or trust the notebook. <br />On GitHub, the HTML representation is unable to render, please try loading this page with nbviewer.org.</b></div><div class=\"sk-container\" hidden><div class=\"sk-item\"><div class=\"sk-estimator sk-toggleable\"><input class=\"sk-toggleable__control sk-hidden--visually\" id=\"sk-estimator-id-1\" type=\"checkbox\" checked><label for=\"sk-estimator-id-1\" class=\"sk-toggleable__label sk-toggleable__label-arrow\">LinearRegression</label><div class=\"sk-toggleable__content\"><pre>LinearRegression()</pre></div></div></div></div></div>"
      ],
      "text/plain": [
       "LinearRegression()"
      ]
     },
     "execution_count": 16,
     "metadata": {},
     "output_type": "execute_result"
    }
   ],
   "source": [
    "lin_reg.fit(x_train,y_train)"
   ]
  },
  {
   "cell_type": "code",
   "execution_count": 17,
   "id": "e16785ed-655e-4290-892e-fde25158ff05",
   "metadata": {},
   "outputs": [],
   "source": [
    "y_preds = lin_reg.predict(x_test)"
   ]
  },
  {
   "cell_type": "code",
   "execution_count": 18,
   "id": "4fc6933d-ef50-4bea-8c7e-600285192116",
   "metadata": {},
   "outputs": [
    {
     "data": {
      "text/plain": [
       "836    71\n",
       "477    22\n",
       "350    46\n",
       "893    35\n",
       "923    38\n",
       "       ..\n",
       "501    56\n",
       "796    29\n",
       "634    37\n",
       "405    18\n",
       "741    25\n",
       "Name: Price, Length: 288, dtype: int64"
      ]
     },
     "execution_count": 18,
     "metadata": {},
     "output_type": "execute_result"
    }
   ],
   "source": [
    "y_test"
   ]
  },
  {
   "cell_type": "code",
   "execution_count": 19,
   "id": "7fe6c3cd-4dee-4c1a-ab1c-8661ee468230",
   "metadata": {},
   "outputs": [
    {
     "data": {
      "text/plain": [
       "array([ 54.69996983,  28.08746257,  67.66160962,  47.24302235,\n",
       "        47.36807514,  13.48458292,  28.08530399,  67.66160962,\n",
       "        50.94386641,  25.97186358,  35.38425274,  47.37925222,\n",
       "        16.71593079,  40.83750911,  29.6746125 ,  31.57778022,\n",
       "        52.91384582,  28.65220981,  22.68018617,  68.88907429,\n",
       "        90.65281912,  85.22359504,  38.14238033, 104.07887331,\n",
       "        81.58589033,  26.70464787,  19.88499362,  29.36224391,\n",
       "        35.97124914,  44.45958112,   5.23906504,  27.59796762,\n",
       "        29.84106671,  57.40224485,  27.11243591,  51.79899914,\n",
       "        27.01262138,  40.05810277,  47.98253396,  63.44785411,\n",
       "        24.60583546,  35.27251858,  24.58088183,  21.97015207,\n",
       "        20.06537538,   1.21833513,  11.98941893,  74.65984591,\n",
       "        36.67213842,  13.30465172,  91.89411128,  21.18644249,\n",
       "        31.458879  ,  31.32316904,  26.88612886,  25.5296998 ,\n",
       "        63.53925666,  24.59616348,  52.29520299,  53.44000003,\n",
       "        24.50431531,  13.27852094,  28.44279339,  65.19450236,\n",
       "        15.8943319 ,  42.07382387,  25.66976836,  32.34766716,\n",
       "        33.41303207,  55.44427561,   1.6974216 ,  21.81617468,\n",
       "        29.40961994,  67.33333299,  21.0035212 ,  25.96226452,\n",
       "        50.41581178,  13.65817786,  18.8925859 ,  50.92088795,\n",
       "        42.70697331,  31.67190475,  42.45032203,  22.87023991,\n",
       "        27.36053784,  36.19710191,  33.86863185,  26.58097892,\n",
       "        29.8276792 ,  27.20656045,  28.42590275,  25.04969986,\n",
       "        42.29634464,  40.89807132,  53.11688239,  26.28269612,\n",
       "        30.61095366,  43.99056163,  20.98643488,  81.44675363,\n",
       "        27.71586866,  66.40530693,  56.00520207,  61.61985601,\n",
       "        28.14731542,  26.91549631,  14.3961474 ,  29.84106671,\n",
       "        15.61531274,  43.32070941,  67.66160962,  48.99364468,\n",
       "        30.59406303,  66.17183686,  67.66160962,  37.36906817,\n",
       "        27.21377911,  28.60924759,  48.91229284,  36.19710191,\n",
       "        53.93008288,  24.50431531,  26.63369103,  69.37710535,\n",
       "        40.83750911,  23.94808164,   5.51285711,  22.87023991,\n",
       "        67.94508083,  45.43877443,  28.75074817,  37.58289841,\n",
       "        51.34908607,  25.22174502,  30.59406303,  30.77749653,\n",
       "        53.11666442,  16.48174926,  26.85906866,   4.38763333,\n",
       "        74.632878  ,  47.99350806,  19.38878976,  67.33333299,\n",
       "        55.49126209,  26.5906509 ,  60.45945587,  27.37742848,\n",
       "        51.72166283,  42.45032203,  31.35147316,  50.94984476,\n",
       "        50.92048707,  26.08477506,  25.37572241,  31.57778022,\n",
       "        20.23343856,  26.14560936,  56.00520207,  59.98747056,\n",
       "        15.00509318,  36.92402664,  23.37401634,  23.5030401 ,\n",
       "        30.59406303,  43.83611854,  29.5162213 ,  29.94270464,\n",
       "        98.98539945,  65.82701581,  67.83269561,  42.61151808,\n",
       "        33.36565604,  37.63145158,  62.53753304,  16.06114003,\n",
       "        33.36565604,  14.34343529,  30.88048938,  13.30465172,\n",
       "        12.68756502,  32.15072756,  34.61436579,  47.57318757,\n",
       "        25.81958681,  20.93535047,  35.10768822,  39.26795917,\n",
       "        36.89746403,  31.61112964,  55.66778543,  19.9865325 ,\n",
       "        63.10887727,  56.85565328,  39.44535008,  28.63973299,\n",
       "        30.02931579,  53.11666442,  69.22250926,  44.28557389,\n",
       "        16.80544582,  48.35419724,  28.43837957,  44.20654413,\n",
       "        64.48451208,  67.83269561,  23.83594851,  24.18061874,\n",
       "        65.61420093,  28.09460331,  67.66160962,  26.73215147,\n",
       "        11.49064512,  15.76711281,  55.87952506,  68.25989799,\n",
       "        26.08477506,  27.37742848,  25.82076395,  66.40530693,\n",
       "        28.63539709,  30.66223376,  17.90017818,  67.66160962,\n",
       "        13.30465172,  50.14209427,  53.6221281 ,  54.69996983,\n",
       "        41.58631054,  48.61291961,  58.25521924,  51.98163139,\n",
       "        60.45945587,  58.43229146,  25.57266202,  29.36224391,\n",
       "        13.98139557,  28.43837957,  74.95843573,  46.29511785,\n",
       "        65.54354459,  64.70862448,  29.92893651,  25.37572241,\n",
       "        67.66160962,  36.15413969,  30.80789327,  18.82441517,\n",
       "        23.83594851,  32.02469717,  40.53033285,  54.97031003,\n",
       "        34.4603884 ,  57.83352237,  33.21167865,  17.90017818,\n",
       "        39.49748829,  19.14068783,  20.25921541,  26.08477506,\n",
       "        39.54164226,  19.14068783,  49.08824042,  57.02808969,\n",
       "        31.67190475,  33.75904483,  18.39024533,  67.66160962,\n",
       "        25.37572241,  55.05033721,  67.66160962,  70.95504215,\n",
       "        12.07165546,  47.99350806,   4.13435603,  55.69237754,\n",
       "        74.354473  ,  25.96226452,  29.84106671,  30.42760882,\n",
       "        28.60924759,  51.76907202,  50.31038756,  47.99350806,\n",
       "        23.83594851,  32.96357672,  26.6208344 ,  32.80959933])"
      ]
     },
     "execution_count": 19,
     "metadata": {},
     "output_type": "execute_result"
    }
   ],
   "source": [
    "y_preds = lin_reg.predict(x_test)\n",
    "y_preds"
   ]
  },
  {
   "cell_type": "code",
   "execution_count": 20,
   "id": "9eb00a89-17fc-4d78-9cbc-6f8537f8b18e",
   "metadata": {},
   "outputs": [],
   "source": [
    "from sklearn.metrics import r2_score,mean_squared_error"
   ]
  },
  {
   "cell_type": "code",
   "execution_count": 21,
   "id": "f7927d18-b6aa-463a-9ee3-0d03a1c3e589",
   "metadata": {},
   "outputs": [
    {
     "name": "stdout",
     "output_type": "stream",
     "text": [
      "Linear Regression Metrics/Model Evaluation:\n",
      "R_Squared error: 0.5283378028443897\n",
      "Mean Squared error: 276.44494751783685\n"
     ]
    }
   ],
   "source": [
    "print(\"Linear Regression Metrics/Model Evaluation:\")\n",
    "print(\"R_Squared error:\",r2_score(y_test,y_preds)) \n",
    "\n",
    "print('Mean Squared error:',mean_squared_error(y_test,y_preds))\n",
    "\n"
   ]
  },
  {
   "cell_type": "code",
   "execution_count": null,
   "id": "8403ea2b-d28e-4b72-bb26-5718af17f100",
   "metadata": {},
   "outputs": [
    {
     "name": "stdin",
     "output_type": "stream",
     "text": [
      "Enter no.of Bedrooms: 556\n"
     ]
    }
   ],
   "source": [
    "bedrooms = int(input('Enter no.of Bedrooms:'))\n",
    "bathrooms =int( input('Enter no.of Bathrooms:'))\n",
    "Status = int(input('Enter Status:'))\n",
    "size = int(input('Enter SQFT:'))\n",
    "location = int(input('Enter Location: '))\n",
    "Facing = int(input('Enter Facing:'))\n",
    "Type = int(input('Enter type:'))\n"
   ]
  },
  {
   "cell_type": "code",
   "execution_count": null,
   "id": "48cde9af-a1e3-4857-a591-736099e902ca",
   "metadata": {},
   "outputs": [],
   "source": [
    "user_input = np.array([[bedrooms,bathrooms,Status,size,location,Facing,Type]])\n",
    "user_input"
   ]
  },
  {
   "cell_type": "code",
   "execution_count": null,
   "id": "7e9e6a4e-a5b0-488b-9ece-2ea78f54cb37",
   "metadata": {},
   "outputs": [],
   "source": [
    "result = lin_reg.predict(user_input)[0]\n",
    "result.round(2)"
   ]
  },
  {
   "cell_type": "code",
   "execution_count": null,
   "id": "f0982782-1c32-4af8-a56b-9c386cfb5ff6",
   "metadata": {},
   "outputs": [],
   "source": [
    "import pickle\n",
    "pickle.dump(lin_reg,open('lin_model.pkl','wb'))\n"
   ]
  },
  {
   "cell_type": "code",
   "execution_count": null,
   "id": "a4bf7f65-d4ab-4014-9851-0040065f3406",
   "metadata": {},
   "outputs": [],
   "source": [
    "model = pickle.load(open('lin_model.pkl','rb'))\n",
    "\n",
    "user_input = np.array([[bedrooms,bathrooms,Status,size,location,Facing,Type]])\n",
    "#user_input\n",
    "result = model.predict(user_input)[0]\n",
    "result.round(2)\n"
   ]
  },
  {
   "cell_type": "code",
   "execution_count": null,
   "id": "adadf5eb-59cc-461e-994e-355d2ad2654c",
   "metadata": {},
   "outputs": [],
   "source": [
    "!pip install Streamlit"
   ]
  },
  {
   "cell_type": "code",
   "execution_count": null,
   "id": "531a36b2-52f4-4533-89c9-8f61380d0550",
   "metadata": {},
   "outputs": [],
   "source": [
    "x.columns\n",
    "\n",
    "\n"
   ]
  },
  {
   "cell_type": "code",
   "execution_count": null,
   "id": "09aa67a7-aba4-4efe-8be0-f51aa11b62b1",
   "metadata": {},
   "outputs": [],
   "source": []
  }
 ],
 "metadata": {
  "kernelspec": {
   "display_name": "Python 3 (ipykernel)",
   "language": "python",
   "name": "python3"
  },
  "language_info": {
   "codemirror_mode": {
    "name": "ipython",
    "version": 3
   },
   "file_extension": ".py",
   "mimetype": "text/x-python",
   "name": "python",
   "nbconvert_exporter": "python",
   "pygments_lexer": "ipython3",
   "version": "3.10.7"
  }
 },
 "nbformat": 4,
 "nbformat_minor": 5
}
