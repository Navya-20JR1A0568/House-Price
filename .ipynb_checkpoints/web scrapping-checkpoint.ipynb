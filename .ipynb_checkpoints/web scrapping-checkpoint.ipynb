{
 "cells": [
  {
   "cell_type": "markdown",
   "id": "8b994dad-f11d-467a-a6ea-40a31304a428",
   "metadata": {},
   "source": [
    "#web Scrapping \n",
    "four basic steps\n",
    "* Sending a http get request to URL for web page using request library\n",
    "* Fetching and par"
   ]
  }
 ],
 "metadata": {
  "kernelspec": {
   "display_name": "Python 3 (ipykernel)",
   "language": "python",
   "name": "python3"
  },
  "language_info": {
   "codemirror_mode": {
    "name": "ipython",
    "version": 3
   },
   "file_extension": ".py",
   "mimetype": "text/x-python",
   "name": "python",
   "nbconvert_exporter": "python",
   "pygments_lexer": "ipython3",
   "version": "3.10.7"
  }
 },
 "nbformat": 4,
 "nbformat_minor": 5
}
